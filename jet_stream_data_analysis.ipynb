{
 "cells": [
  {
   "cell_type": "code",
   "execution_count": 1,
   "source": [
    "import json\n",
    "import pandas as pd\n",
    "from geojson import Feature, FeatureCollection, Point"
   ],
   "outputs": [],
   "metadata": {}
  },
  {
   "cell_type": "code",
   "execution_count": 2,
   "source": [
    "jet_stream_data = json.load(open(\"jet_stream_data.json\"))"
   ],
   "outputs": [],
   "metadata": {}
  },
  {
   "cell_type": "code",
   "execution_count": 3,
   "source": [
    "data_dict = dict()\n",
    "for wind_component_data in jet_stream_data:\n",
    "    key_name = wind_component_data[\"header\"][\"parameterNumberName\"]\n",
    "    key_value = pd.Series(wind_component_data[\"data\"])\n",
    "    data_dict[key_name] = key_value"
   ],
   "outputs": [],
   "metadata": {}
  },
  {
   "cell_type": "code",
   "execution_count": 4,
   "source": [
    "jet_stream_dataframe = pd.DataFrame(data_dict)"
   ],
   "outputs": [],
   "metadata": {}
  },
  {
   "cell_type": "code",
   "execution_count": 5,
   "source": [
    "longitudes = list()\n",
    "for i in range(181):\n",
    "    longitudes.extend(list(range(360)))"
   ],
   "outputs": [],
   "metadata": {}
  },
  {
   "cell_type": "code",
   "execution_count": 6,
   "source": [
    "latitudes = list()\n",
    "for i in range(90, -91, -1):\n",
    "    latitudes.extend(list([i]*360))"
   ],
   "outputs": [],
   "metadata": {}
  },
  {
   "cell_type": "code",
   "execution_count": 7,
   "source": [
    "assert len(latitudes) == len(longitudes)\n",
    "assert len(latitudes) == len(jet_stream_dataframe)"
   ],
   "outputs": [],
   "metadata": {}
  },
  {
   "cell_type": "code",
   "execution_count": 8,
   "source": [
    "jet_stream_dataframe[\"lng\"] = longitudes\n",
    "jet_stream_dataframe[\"lat\"] = latitudes"
   ],
   "outputs": [],
   "metadata": {}
  },
  {
   "cell_type": "code",
   "execution_count": 9,
   "source": [
    "# columns used for constructing geojson object\n",
    "features = jet_stream_dataframe.apply(\n",
    "    lambda row: Feature(geometry=Point((float(row['lng']), float(row['lat'])))),\n",
    "    axis=1).tolist()\n",
    "\n",
    "# all the other columns used as properties\n",
    "properties = jet_stream_dataframe.drop(['lng', 'lat'], axis=1).to_dict('records')\n",
    "\n",
    "# whole geojson object\n",
    "feature_collection = FeatureCollection(features=features, properties=properties)"
   ],
   "outputs": [],
   "metadata": {}
  },
  {
   "cell_type": "code",
   "execution_count": 10,
   "source": [
    "with open('jet_stream_data.geojson', 'w', encoding='utf-8') as f:\n",
    "    json.dump(feature_collection, f, ensure_ascii=False)"
   ],
   "outputs": [],
   "metadata": {}
  }
 ],
 "metadata": {
  "orig_nbformat": 4,
  "language_info": {
   "name": "python",
   "version": "3.8.5",
   "mimetype": "text/x-python",
   "codemirror_mode": {
    "name": "ipython",
    "version": 3
   },
   "pygments_lexer": "ipython3",
   "nbconvert_exporter": "python",
   "file_extension": ".py"
  },
  "kernelspec": {
   "name": "python3",
   "display_name": "Python 3.8.5 64-bit ('miniconda3': virtualenv)"
  },
  "interpreter": {
   "hash": "dac1e64beed8ba1460229655e3027dc4cbb54fa098e21225bb2be1fd1e6ce3f8"
  }
 },
 "nbformat": 4,
 "nbformat_minor": 2
}