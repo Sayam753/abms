{
 "cells": [
  {
   "cell_type": "code",
   "execution_count": 1,
   "source": [
    "import json\n",
    "import pandas as pd"
   ],
   "outputs": [],
   "metadata": {}
  },
  {
   "cell_type": "code",
   "execution_count": 2,
   "source": [
    "jet_stream_data = json.load(open(\"jet_stream_data.json\"))"
   ],
   "outputs": [],
   "metadata": {}
  },
  {
   "cell_type": "code",
   "execution_count": 3,
   "source": [
    "data_dict = dict()\n",
    "for wind_component_data in jet_stream_data:\n",
    "    key_name = wind_component_data[\"header\"][\"parameterNumberName\"]\n",
    "    key_value = pd.Series(wind_component_data[\"data\"])\n",
    "    data_dict[key_name] = key_value"
   ],
   "outputs": [],
   "metadata": {}
  },
  {
   "cell_type": "code",
   "execution_count": 4,
   "source": [
    "jet_stream_dataframe = pd.DataFrame(data_dict)"
   ],
   "outputs": [],
   "metadata": {}
  },
  {
   "cell_type": "code",
   "execution_count": 5,
   "source": [
    "longitudes = list()\n",
    "for i in range(181):\n",
    "    longitudes.extend(list(range(360)))"
   ],
   "outputs": [],
   "metadata": {}
  },
  {
   "cell_type": "code",
   "execution_count": 6,
   "source": [
    "latitudes = list()\n",
    "for i in range(90, -91, -1):\n",
    "    latitudes.extend(list([i]*360))"
   ],
   "outputs": [],
   "metadata": {}
  },
  {
   "cell_type": "code",
   "execution_count": 7,
   "source": [
    "assert len(latitudes) == len(longitudes)\n",
    "assert len(latitudes) == len(jet_stream_dataframe)"
   ],
   "outputs": [],
   "metadata": {}
  },
  {
   "cell_type": "code",
   "execution_count": 8,
   "source": [
    "jet_stream_dataframe[\"lng\"] = longitudes\n",
    "jet_stream_dataframe[\"lat\"] = latitudes"
   ],
   "outputs": [],
   "metadata": {}
  },
  {
   "cell_type": "code",
   "execution_count": 9,
   "source": [
    "import json\n",
    "\n",
    "geojson = {\"type\": \"FeatureCollection\", \"features\": []}\n",
    "\n",
    "for _, row in jet_stream_dataframe.iterrows():\n",
    "    feature = {\n",
    "        \"type\": \"Feature\", \n",
    "        \"geometry\": {\n",
    "            \"type\": \"Point\", \n",
    "            \"coordinates\": [row['lng'], row['lat']]\n",
    "        }, \n",
    "        \"properties\": {\n",
    "            # https://stackoverflow.com/questions/46962288/change-longitude-from-180-to-180-to-0-to-360\n",
    "            \"longitude\": ((row['lng'] - 180) % 360) - 180,\n",
    "            \"latitude\": row['lat'],\n",
    "            \"U-component_of_wind\": row['U-component_of_wind'],\n",
    "            \"V-component_of_wind\": row['V-component_of_wind'],\n",
    "        }\n",
    "    }\n",
    "    geojson['features'].append(feature)\n",
    "\n",
    "with open('abms/data/jet_stream_data.geojson', 'w') as fp:\n",
    "    json.dump(geojson, fp, indent=True)    "
   ],
   "outputs": [],
   "metadata": {}
  },
  {
   "cell_type": "code",
   "execution_count": 10,
   "source": [
    "jet_stream_dataframe[\"lat\"].min()"
   ],
   "outputs": [
    {
     "output_type": "execute_result",
     "data": {
      "text/plain": [
       "-90"
      ]
     },
     "metadata": {},
     "execution_count": 10
    }
   ],
   "metadata": {}
  },
  {
   "cell_type": "code",
   "execution_count": null,
   "source": [],
   "outputs": [],
   "metadata": {}
  }
 ],
 "metadata": {
  "orig_nbformat": 4,
  "language_info": {
   "name": "python",
   "version": "3.8.5",
   "mimetype": "text/x-python",
   "codemirror_mode": {
    "name": "ipython",
    "version": 3
   },
   "pygments_lexer": "ipython3",
   "nbconvert_exporter": "python",
   "file_extension": ".py"
  },
  "kernelspec": {
   "name": "python3",
   "display_name": "Python 3.8.5 64-bit ('base': conda)"
  },
  "interpreter": {
   "hash": "dac1e64beed8ba1460229655e3027dc4cbb54fa098e21225bb2be1fd1e6ce3f8"
  }
 },
 "nbformat": 4,
 "nbformat_minor": 2
}